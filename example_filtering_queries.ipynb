{
 "cells": [
  {
   "cell_type": "markdown",
   "id": "9cc73a97",
   "metadata": {},
   "source": [
    "# Example filtering enriched metadata from KNTraP\n",
    "KNTraP candidate light-curves and positional information is used to:\n",
    "1. Positional cross-match with catalogues: to provide information on the actual source if catalogued or its environment (aka galaxy close-by)\n",
    "2. Light-curve processing: to obtain magnitude increase/decrease rates and colour\n",
    "\n",
    "\n",
    "These \"metadata\" can be then used to discard known stars and select most promising transients.\n",
    "\n",
    "\n",
    "This notebook allows you to create your own selection."
   ]
  },
  {
   "cell_type": "code",
   "execution_count": 4,
   "id": "3f22617f",
   "metadata": {},
   "outputs": [],
   "source": [
    "import pandas as pd\n",
    "import numpy as np"
   ]
  },
  {
   "cell_type": "markdown",
   "id": "f5fb77a3",
   "metadata": {},
   "source": [
    "Beware! as of March 9th 2022 the enriched metadata is saved as a pickle file. This allows numpy arrays to be saved properly"
   ]
  },
  {
   "cell_type": "code",
   "execution_count": 5,
   "id": "ff61c5d1",
   "metadata": {},
   "outputs": [],
   "source": [
    "df = pd.read_pickle('./Fink_outputs/353A_tmpl.pickle')"
   ]
  },
  {
   "cell_type": "markdown",
   "id": "2ddf8c6c",
   "metadata": {},
   "source": [
    "What are the available metadata?\n",
    "\n",
    "| key | Content | Type |\n",
    "| --- | --- | --- |\n",
    "|id| KNTraP id, beware this is run dependent| int |\n",
    "|ra| Candidate ra forced phot | float |\n",
    "|dec | Candidate dec forced phot | float |\n",
    "|max_mag_i| Maximum magnitude in forced photometry i band|float |\n",
    "|max_mag_g| Maximum magnitude in forced photometry g band|float |\n",
    "|min_mag_i| Minimum magnitude in forced photometry i band|float |\n",
    "|min_mag_g| Minimum magnitude in forced photometry g band|float |\n",
    "|mean_mag_i| Mean magnitude in forced photometry i band|float |\n",
    "|mean_mag_g| Mean magnitude in forced photometry g band|float |\n",
    "|std_mag_i| Dispersion magnitude in forced photometry i band|float |\n",
    "|std_mag_g| Dispersion magnitude in forced photometry g band|float |\n",
    "|dmag_i| Delta Magnitude in i band | np.array |\n",
    "|dmag_g| Delta Magnitude in g band | np.array |\n",
    "|dmag_rate_i| Delta Magnitude rate (per day) in i band | np.array |\n",
    "|dmag_rate_g| Delta Magnitude rate (per day) in g band | np.array |\n",
    "|color| i-g color if measurements on same night (how red it is) | np.array |\n",
    "|color_avg| Average color complete light-curve forced phot | float |\n",
    "|ndet| Numbers of detections in forced phot | int |\n",
    "|two_mags_gt_225| Are two measured magnitudes above 22.5? (useful for shallow fields)| Boolean |\n",
    "|two_mags_gt_235| Are two measured magnitudes above 23.5? (useful for deep fields) | Boolean |\n",
    "|ra_unforced| Candidate ra unforced phot | float | \n",
    "|dec_unforced| Candidate dec unforced phot | float | \n",
    "|max_mag_i_unforced| Same as above unforced | float |\n",
    "|max_mag_g_unforced| | |\n",
    "|min_mag_i_unforced| | |\n",
    "|min_mag_g_unforced| | |\n",
    "|mean_mag_i_unforced| | |\n",
    "|mean_mag_g_unforced| | |\n",
    "|std_mag_i_unforced| | |\n",
    "|std_mag_g_unforced| | |\n",
    "|dmag_i_unforced| | |\n",
    "|dmag_g_unforced| | |\n",
    "|dmag_rate_i_unforced| | |\n",
    "|dmag_rate_g_unforced| | |\n",
    "|color_unforced| | |\n",
    "|color_avg_unforced| | |\n",
    "|ndet_unforced| | |\n",
    "|two_mags_gt_225_unforced| | |\n",
    "|two_mags_gt_235_unforced| | |\n",
    "|simbad_type| Simbad positional cross match type 5''| string |\n",
    "|simbad_ctlg| Simbad positional cross match catalogue 5'' | string |\n",
    "|simbad_sptype| Simbad positional cross match sptype 5'' | string |\n",
    "|simbad_redshift| Simbad positional cross match redshift | float |\n",
    "|gaia_DR2_source| Gaia DR2 positional cross match 2'' source | string |\n",
    "|gaia_DR2_ra| Gaia DR2 positional 2'' cross match ra | float |\n",
    "|gaia_DR2_dec| Gaia DR2 positional 2'' cross match dec | float |\n",
    "|gaia_DR2_parallax| Gaia DR2 positional 2'' cross match parallax | float |\n",
    "|gaia_DR2_parallaxerr| Gaia DR2 positional 2'' cross match parallax error | float |\n",
    "|gaia_DR2_gmag| Gaia DR2 positional 2'' cross match magnitude in g | float |\n",
    "|gaia_DR2_angdist| Gaia DR2 positional 2'' cross match angular distance | float |\n",
    "|gaia_eDR3_source| idem but for early data release 3|\n",
    "|gaia_eDR3_ra| |\n",
    "|gaia_eDR3_dec| |\n",
    "|gaia_eDR3_parallax| |\n",
    "|gaia_eDR3_parallaxerr| |\n",
    "|gaia_eDR3_gmag| |\n",
    "|gaia_eDR3_angdist| |\n",
    "|USNO_source| USNO (stars) positional cross match 2'' source | string |\n",
    "|USNO_angdist| USNO (stars) positional cross match 2'' angular distance | float |"
   ]
  },
  {
   "cell_type": "markdown",
   "id": "75ea7598",
   "metadata": {},
   "source": [
    "# Define your filtering\n",
    "Now you can define which candidates you are interested in inspecting.\n",
    "\n",
    "A basic example would be querying for transients with at least 3 detections in forced photometry and two measured magnitudes greater than 23.5"
   ]
  },
  {
   "cell_type": "code",
   "execution_count": 6,
   "id": "169b221d",
   "metadata": {},
   "outputs": [],
   "source": [
    "my_query_string = (\"ndet>=3 & two_mags_gt_235==True\")\n",
    "df_out = df.query(my_query_string)"
   ]
  },
  {
   "cell_type": "code",
   "execution_count": 7,
   "id": "008e114c",
   "metadata": {},
   "outputs": [
    {
     "name": "stdout",
     "output_type": "stream",
     "text": [
      "Our original list of 171 candidates, has now been reduced to 89\n"
     ]
    }
   ],
   "source": [
    "print(f\"Our original list of {len(df)} candidates, has now been reduced to {len(df_out)}\")"
   ]
  },
  {
   "cell_type": "markdown",
   "id": "32d7dce7",
   "metadata": {},
   "source": [
    "Now you can save this list for visualization (uncomment to do so)"
   ]
  },
  {
   "cell_type": "code",
   "execution_count": 8,
   "id": "484dcb2b",
   "metadata": {},
   "outputs": [],
   "source": [
    "# df_out.to_csv('my_filtering',sep=\";\",index=False)"
   ]
  },
  {
   "cell_type": "markdown",
   "id": "d990c045",
   "metadata": {},
   "source": [
    "# More advanced queries"
   ]
  },
  {
   "cell_type": "markdown",
   "id": "df6e539d",
   "metadata": {},
   "source": [
    "#### Adding SIMBAD cross-matches filtering\n",
    "\n",
    "SIMBAD type will return \"Unknown\" if no matching source found, \"Fail\" if service had an issue cross-matching it.\n",
    "\n",
    "If looking for extra-galactic objects it may also return a host-galaxy cross-match as the closest source. Suggest to keep these sources for the filtering."
   ]
  },
  {
   "cell_type": "code",
   "execution_count": 9,
   "id": "3fb22ec7",
   "metadata": {},
   "outputs": [],
   "source": [
    "list_simbad_galaxies = [\n",
    "    \"galaxy\",\n",
    "    \"Galaxy\",\n",
    "    \"EmG\",\n",
    "    \"Seyfert\",\n",
    "    \"Seyfert_1\",\n",
    "    \"Seyfert_2\",\n",
    "    \"BlueCompG\",\n",
    "    \"StarburstG\",\n",
    "    \"LSB_G\",\n",
    "    \"HII_G\",\n",
    "    \"High_z_G\",\n",
    "    \"GinPair\",\n",
    "    \"GinGroup\",\n",
    "    \"BClG\",\n",
    "    \"GinCl\",\n",
    "    \"PartofG\",\n",
    "]\n",
    "keep_cds = [\"Unknown\", \"Transient\", \"Fail\"] + list_simbad_galaxies"
   ]
  },
  {
   "cell_type": "code",
   "execution_count": 25,
   "id": "1fc7c23e",
   "metadata": {},
   "outputs": [
    {
     "name": "stdout",
     "output_type": "stream",
     "text": [
      "Our original list of 171 candidates, has now been reduced to 85\n"
     ]
    }
   ],
   "source": [
    "my_query_string = (f\"ndet>=3 & two_mags_gt_235==True & simbad_type == @keep_cds\")\n",
    "df_out = df.query(my_query_string)\n",
    "print(f\"Our original list of {len(df)} candidates, has now been reduced to {len(df_out)}\")"
   ]
  },
  {
   "cell_type": "markdown",
   "id": "6a2e1fd8",
   "metadata": {},
   "source": [
    "#### Adding GAIA cross-matches filtering\n",
    "\n",
    "You probably want to avoid inspecting catalogued stars (unless you are looking for flares!). Gaia and USNO are good catalogues to filter out these stars"
   ]
  },
  {
   "cell_type": "code",
   "execution_count": 30,
   "id": "7efebe4e",
   "metadata": {},
   "outputs": [
    {
     "name": "stdout",
     "output_type": "stream",
     "text": [
      "Our original list of 171 candidates, has now been reduced to 9\n"
     ]
    }
   ],
   "source": [
    "my_query_string = (f\"ndet>=3 & two_mags_gt_235==True & simbad_type == @keep_cds & gaia_DR2_source=='Unknown' & gaia_eDR3_source=='Unknown' & USNO_source=='Unknown'\")\n",
    "df_out = df.query(my_query_string)\n",
    "print(f\"Our original list of {len(df)} candidates, has now been reduced to {len(df_out)}\")"
   ]
  },
  {
   "cell_type": "markdown",
   "id": "35b6d2ac",
   "metadata": {},
   "source": [
    "#### Adding a requirement for delta mag array\n",
    "\n",
    "You could want to check if there is at least one measurement with delta mag in the i band > 0.3, to do so\n",
    "- create a column True or False depending on my requirement for delta mag"
   ]
  },
  {
   "cell_type": "code",
   "execution_count": 33,
   "id": "48d34e60",
   "metadata": {},
   "outputs": [],
   "source": [
    "df = df.assign(mymagrequirement=df.dmag_i.apply(lambda x: np.any(x>0.3)))"
   ]
  },
  {
   "cell_type": "code",
   "execution_count": 34,
   "id": "96648c91",
   "metadata": {},
   "outputs": [],
   "source": [
    "my_query_string = (f\"ndet>=3 & two_mags_gt_235==True & simbad_type == @keep_cds & gaia_DR2_source=='Unknown' & gaia_eDR3_source=='Unknown' & USNO_source=='Unknown' & mymagrequirement==True\")"
   ]
  },
  {
   "cell_type": "code",
   "execution_count": 36,
   "id": "a7cc7883",
   "metadata": {},
   "outputs": [
    {
     "name": "stdout",
     "output_type": "stream",
     "text": [
      "Our original list of 171 candidates, has now been reduced to 1\n"
     ]
    }
   ],
   "source": [
    "df_out = df.query(my_query_string)\n",
    "print(f\"Our original list of {len(df)} candidates, has now been reduced to {len(df_out)}\")"
   ]
  },
  {
   "cell_type": "code",
   "execution_count": null,
   "id": "84544763",
   "metadata": {},
   "outputs": [],
   "source": []
  },
  {
   "cell_type": "code",
   "execution_count": null,
   "id": "a8600f9d",
   "metadata": {},
   "outputs": [],
   "source": []
  }
 ],
 "metadata": {
  "kernelspec": {
   "display_name": "Python 3",
   "language": "python",
   "name": "python3"
  },
  "language_info": {
   "codemirror_mode": {
    "name": "ipython",
    "version": 3
   },
   "file_extension": ".py",
   "mimetype": "text/x-python",
   "name": "python",
   "nbconvert_exporter": "python",
   "pygments_lexer": "ipython3",
   "version": "3.9.5"
  }
 },
 "nbformat": 4,
 "nbformat_minor": 5
}
